{
 "cells": [
  {
   "cell_type": "markdown",
   "metadata": {},
   "source": [
    "# Template IPYNB.ypa\n",
    "\n",
    "# Nom_Sujet\n",
    "## Thème_à_traiter\n",
    "\n",
    "**Helper**\n",
    "Texte ici\n",
    "\n",
    "**Exercise**\n",
    "Texte ici\n",
    "\n",
    "**PlusPLus**\n",
    "*Néant*\n",
    "\n",
    "## OUT\n",
    "*copy_output_for_help*"
   ]
  },
  {
   "cell_type": "markdown",
   "metadata": {},
   "source": [
    "# Exercise PANDAS from SCHUTZ course SIMPLON Ecole IA Microsoft by Simplon\n",
    "# OBJECTIF : Initiation PANDAS\n",
    "\n",
    "## Chargement des données\n",
    "**Helper**\n",
    "Documentation de la techno\n",
    "\n",
    "**Exercise1**\n",
    "Importer la lib Pandas (after pip install)\n",
    "Assigner l'url du fichier CSV\n",
    "Utiliser `.read_csv()`, méthode pandas pour lire le fichier CSV\n",
    "Utiliser `.head()`, méthode pandas pour afficher la tête du DataFrame `df`"
   ]
  },
  {
   "cell_type": "code",
   "execution_count": null,
   "metadata": {},
   "outputs": [],
   "source": [
    "import pandas as pd\n",
    "\n",
    "#! charger le fichier CSV depuis le lien\n",
    "url = \"https://raw.githubusercontent.com/datasciencedojo/datasets/master/titanic.csv\"\n",
    "titanic_df = pd.read_csv(url)\n",
    "\n",
    "print(titanic_df.head())"
   ]
  },
  {
   "cell_type": "markdown",
   "metadata": {},
   "source": [
    "## OUT\n",
    "```python\n",
    "   PassengerId  Survived  Pclass  \\\n",
    "0            1         0       3   \n",
    "1            2         1       1   \n",
    "2            3         1       3   \n",
    "3            4         1       1   \n",
    "4            5         0       3   \n",
    "\n",
    "                                                Name     Sex   Age  SibSp  \\\n",
    "0                            Braund, Mr. Owen Harris    male  22.0      1   \n",
    "1  Cumings, Mrs. John Bradley (Florence Briggs Th...  female  38.0      1   \n",
    "2                             Heikkinen, Miss. Laina  female  26.0      0   \n",
    "3       Futrelle, Mrs. Jacques Heath (Lily May Peel)  female  35.0      1   \n",
    "4                           Allen, Mr. William Henry    male  35.0      0   \n",
    "\n",
    "   Parch            Ticket     Fare Cabin Embarked  \n",
    "0      0         A/5 21171   7.2500   NaN        S  \n",
    "1      0          PC 17599  71.2833   C85        C  \n",
    "2      0  STON/O2. 3101282   7.9250   NaN        S  \n",
    "3      0            113803  53.1000  C123        S  \n",
    "4      0            373450   8.0500   NaN        S  \n",
    "\n",
    "```"
   ]
  },
  {
   "cell_type": "markdown",
   "metadata": {},
   "source": [
    "## Exploration des données\n",
    "**Helper**\n",
    "Pour trouver le nombre de passager on compte le nombre de ligne\n",
    "Pour le pourcentage de survivant, on compte combien ont survécu, puis on divise le total par le total des passagers, le tout multiplié par 100\n",
    "\n",
    "**Exercise2**\n",
    "Utiliser `len(nom_dataframe)` pour récupérer la longueur de la `df`, équivalent aux nombres total de passagers dans le cas\n",
    "Utiliser `nom_df[\"nom_colonne\"]` pour accéder à une colonne de la `df`\n",
    "Utiliser `.sum()` pour additionner (sommer) toute data récupérée\n",
    "Enfin, simple opérations mathématique pour le pourcentage"
   ]
  },
  {
   "cell_type": "code",
   "execution_count": null,
   "metadata": {},
   "outputs": [],
   "source": [
    "total_passengers = len(titanic_df)\n",
    "print(f\"Nombre total de passager : {total_passengers}\")\n",
    "\n",
    "total_survived = titanic_df[\"Survived\"].sum()\n",
    "print(f\"Nombre de survivants : {total_survived}\")\n",
    "\n",
    "percent_survived = int((total_survived / total_passengers) * 100)\n",
    "print(f\"Pourcentage des passagers qui ont survécu : {percent_survived} %\")"
   ]
  },
  {
   "cell_type": "markdown",
   "metadata": {},
   "source": [
    "## OUT\n",
    "```python\n",
    "Nombre total de passager : 891\n",
    "Nombre de survivants : 342\n",
    "Pourcentage des passagers qui ont survécu : 38 %\n",
    "\n",
    "```"
   ]
  },
  {
   "cell_type": "markdown",
   "metadata": {},
   "source": [
    "## Analyse des données\n",
    "**Helper**\n",
    "Calculer l'âge moyen des passagers (mean), la colonne `Age` contient l'âge des passagers.\n",
    "Trouver l'âge le plus fréquent (mode)\n",
    "Note : Il y a probablement des valeurs manquantes (NaN) dans cette colonne. Pandas les ignore automatiquement lorsqu'on utilise `mean()`.\n",
    "\n",
    "**Exercise3**\n",
    "Utiliser la méthode `mean()` pour calculer la moyenne.\n",
    "Utiliser la méthode `mode()` de Pandas, qui retourne la ou les valeurs les plus fréquentes dans la colonne.\n",
    "\n",
    "**PlusPLus**\n",
    "Utiliser un formatage de la data `passengers_mean_age` pour afficher 2 chiffres après la virgule `29.70`\n",
    "Utiliser `passengers_mean_age` (data à formater), `:` (introduit le format spécifié), `.2` (nombre de décimal), `f` (signifie que la valeur à afficher est un `float`)\n",
    "C'est utile pour rendre les valeurs numériques plus claires et cohérentes, surtout quand tu travailles avec des résultats statistiques comme les moyennes."
   ]
  },
  {
   "cell_type": "code",
   "execution_count": null,
   "metadata": {},
   "outputs": [],
   "source": [
    "passengers_mean_age = titanic_df[\"Age\"].mean()\n",
    "print(f\"Âge moyen des passager du Titanic :  {passengers_mean_age:.2f} ans\")\n",
    "\n",
    "frequent_age = titanic_df[\"Age\"].mode()[0]\n",
    "print(f\"L'âge le plus fréquent est : {frequent_age} ans\")"
   ]
  },
  {
   "cell_type": "markdown",
   "metadata": {},
   "source": [
    "## OUT\n",
    "Âge moyen des passager du Titanic :  29.70 ans\n",
    "L'âge le plus fréquent est : 24.0 ans"
   ]
  },
  {
   "cell_type": "markdown",
   "metadata": {},
   "source": [
    "## Filtrage des données\n",
    "\n",
    "**Helper**\n",
    "Pour filtrer les données dans Pandas, nous allons utiliser des conditions logiques basées sur la colonne Survived du DataFrame\n",
    "\n",
    "**Exercise4**\n",
    "Select uniquement les lignes où la colonne `Survived` est égale à `1` (c'est-à-dire les passagers qui ont survécu).\n",
    "Select uniquement les lignes où la colonne `Survived` est égale à `0` (c'est-à-dire les passagers qui n'ont pas survécu).\n",
    "\n",
    "**PlusPLus**\n",
    "*Attention la syntaxe des structures conditionnelles*\n",
    "- `titanic_df['Survived'] == 1` : Cela crée une condition qui sélectionne uniquement les lignes où la valeur dans la colonne `Survived` est 1 (survivants)\n",
    "- `titanic_df['Survived'] == 0` : Cela crée une condition qui sélectionne uniquement les lignes où la valeur dans la colonne `Survived` est 0 (non-survivants)\n",
    "- `titanic_df[condition]` : En plaçant cette condition entre crochets `[]`, nous demandons à Pandas de renvoyer un nouveau DataFrame contenant uniquement les lignes qui respectent cette condition."
   ]
  },
  {
   "cell_type": "code",
   "execution_count": null,
   "metadata": {},
   "outputs": [],
   "source": [
    "survived_df = titanic_df[titanic_df[\"Survived\"] == 1]\n",
    "non_survived_df = titanic_df[titanic_df[\"Survived\"] == 0]\n",
    "\n",
    "print(\"Passagers ayant survécu :\")\n",
    "print(survived_df.head())\n",
    "\n",
    "print(\"\\nPassagers n'ayant pas survécu :\")\n",
    "print(non_survived_df.head())"
   ]
  },
  {
   "cell_type": "markdown",
   "metadata": {},
   "source": [
    "## OUT\n",
    "```python\n",
    "Passagers ayant survécu :\n",
    "   PassengerId  Survived  Pclass  \\\n",
    "1            2         1       1   \n",
    "2            3         1       3   \n",
    "3            4         1       1   \n",
    "8            9         1       3   \n",
    "9           10         1       2   \n",
    "\n",
    "                                                Name     Sex   Age  SibSp  \\\n",
    "1  Cumings, Mrs. John Bradley (Florence Briggs Th...  female  38.0      1   \n",
    "2                             Heikkinen, Miss. Laina  female  26.0      0   \n",
    "3       Futrelle, Mrs. Jacques Heath (Lily May Peel)  female  35.0      1   \n",
    "8  Johnson, Mrs. Oscar W (Elisabeth Vilhelmina Berg)  female  27.0      0   \n",
    "9                Nasser, Mrs. Nicholas (Adele Achem)  female  14.0      1   \n",
    "\n",
    "   Parch            Ticket     Fare Cabin Embarked  \n",
    "1      0          PC 17599  71.2833   C85        C  \n",
    "2      0  STON/O2. 3101282   7.9250   NaN        S  \n",
    "3      0            113803  53.1000  C123        S  \n",
    "8      2            347742  11.1333   NaN        S  \n",
    "9      0            237736  30.0708   NaN        C  \n",
    "\n",
    "Passagers n'ayant pas survécu :\n",
    "   PassengerId  Survived  Pclass                            Name   Sex   Age  \\\n",
    "0            1         0       3         Braund, Mr. Owen Harris  male  22.0   \n",
    "4            5         0       3        Allen, Mr. William Henry  male  35.0   \n",
    "5            6         0       3                Moran, Mr. James  male   NaN   \n",
    "6            7         0       1         McCarthy, Mr. Timothy J  male  54.0   \n",
    "7            8         0       3  Palsson, Master. Gosta Leonard  male   2.0   \n",
    "\n",
    "   SibSp  Parch     Ticket     Fare Cabin Embarked  \n",
    "0      1      0  A/5 21171   7.2500   NaN        S  \n",
    "4      0      0     373450   8.0500   NaN        S  \n",
    "5      0      0     330877   8.4583   NaN        Q  \n",
    "6      0      0      17463  51.8625   E46        S  \n",
    "7      3      1     349909  21.0750   NaN        S  \n",
    "\n",
    "```"
   ]
  },
  {
   "cell_type": "markdown",
   "metadata": {},
   "source": [
    "## Statistiques\n",
    "\n",
    "**Helper**\n",
    "Pour analyser les statistiques des tarifs payés par les passagers, nous allons utiliser des méthodes Pandas qui permettent de calculer des statistiques courantes comme le *minimum*, le *maximum*, la *moyenne*, et la *médiane*\n",
    "\n",
    "**Exercise5**\n",
    "*Tarif minimum* : Utiliser la méthode `min()` sur la colonne `Fare` du DataFrame.\n",
    "*Tarif maximum* : Utiliser la méthode `max()` sur la colonne `Fare`.\n",
    "*Tarif moyen* : Utiliser la méthode `mean()` sur la colonne `Fare`.\n",
    "*Tarif médian* : Utiliser la méthode `median()` sur la colonne `Fare`.\n",
    "\n",
    "**PlusPLus**\n",
    "*Néant*\n"
   ]
  },
  {
   "cell_type": "code",
   "execution_count": null,
   "metadata": {},
   "outputs": [],
   "source": [
    "min_fare = titanic_df['Fare'].min()\n",
    "print(f\"Tarif min payé par un passager : {min_fare:.2f} $\")\n",
    "\n",
    "max_fare = titanic_df['Fare'].max()\n",
    "print(f\"Tarif max payé par un passager : {max_fare:.2f} $\")\n",
    "\n",
    "mean_fare = titanic_df['Fare'].mean()\n",
    "print(f\"Tarif moyen payé par un passager : {mean_fare:.2f} $\")\n",
    "\n",
    "median_fare = titanic_df['Fare'].median()\n",
    "print(f\"Tarif médian payé par un passager : {median_fare:.2f} $\")"
   ]
  },
  {
   "cell_type": "markdown",
   "metadata": {},
   "source": [
    "## OUT\n",
    "```python \n",
    "Tarif min payé par un passager : 0.00 $\n",
    "Tarif max payé par un passager : 512.33 $\n",
    "Tarif moyen payé par un passager : 32.20 $\n",
    "Tarif médian payé par un passager : 14.45 $\n",
    "```"
   ]
  },
  {
   "cell_type": "markdown",
   "metadata": {},
   "source": [
    "## Traitement des VALEURS MANQUANTES\n",
    "\n",
    "**Helper**\n",
    "Cela permet d'identifier les colonnes qui contiennent des valeurs manquantes et de prendre des décisions pour les traiter\n",
    "\n",
    "**Exercise6**\n",
    "Utiliser `pd.read_csv()` pour charger le fichier CSV à partir du lien donné. (attention : fichier raw)\n",
    "Utiliser `isna()` qui permet de détecter les valeurs manquantes `(NaN)` dans le DataFrame\n",
    "Utiliser `sum()` pour compter le nombre de valeurs manquantes par colonne.\n",
    "\n",
    "**PlusPLus**\n",
    "`pd.read_csv(url)` : Charge les données du fichier CSV en ligne dans un DataFrame\n",
    "`sales_df.isna()` : Retourne un DataFrame de la même forme que `sales_df` avec des booléens indiquant si une valeur est manquante (`True`) ou non (`False`)\n",
    "`sales_df.isna().sum()` : Compte les `True` (les valeurs manquantes) pour chaque colonne, ce qui donne le nombre de valeurs manquantes par colonne"
   ]
  },
  {
   "cell_type": "code",
   "execution_count": null,
   "metadata": {},
   "outputs": [],
   "source": [
    "url1 = \"https://raw.githubusercontent.com/ine-rmotr-curriculum/FreeCodeCamp-Pandas-Real-Life-Example/master/data/sales_data.csv\"\n",
    "# sales_df = pd.read_csv(url, on_bad_lines='skip')\n",
    "sales_df = pd.read_csv(url1)\n",
    "\n",
    "missing_values = sales_df.isna().sum()\n",
    "print(\"Nombre de valeurs manquantes dans chaque colonne :\")\n",
    "print(missing_values)"
   ]
  },
  {
   "cell_type": "markdown",
   "metadata": {},
   "source": [
    "## OUT\n",
    "```python\n",
    "Nombre de valeurs manquantes dans chaque colonne :\n",
    "Date                0\n",
    "Day                 0\n",
    "Month               0\n",
    "Year                0\n",
    "Customer_Age        0\n",
    "Age_Group           0\n",
    "Customer_Gender     0\n",
    "Country             0\n",
    "State               0\n",
    "Product_Category    0\n",
    "Sub_Category        0\n",
    "Product             0\n",
    "Order_Quantity      0\n",
    "Unit_Cost           0\n",
    "Unit_Price          0\n",
    "Profit              0\n",
    "Cost                0\n",
    "Revenue             0\n",
    "dtype: int64\n",
    "\n",
    "```"
   ]
  },
  {
   "cell_type": "markdown",
   "metadata": {},
   "source": [
    "## Suppression des doublons dans mes données\n",
    "\n",
    "**Helper**\n",
    "\n",
    "\n",
    "**Exercise7**\n",
    "\n",
    "\n",
    "**PlusPLus**\n",
    "*Néant*\n"
   ]
  },
  {
   "cell_type": "code",
   "execution_count": 45,
   "metadata": {},
   "outputs": [
    {
     "name": "stdout",
     "output_type": "stream",
     "text": [
      "Affichage de la taille dataframe AVANT suppression : (239177, 7)\n"
     ]
    }
   ],
   "source": [
    "url = r\"C:\\Users\\Utilisateur\\Documents\\Dev-IA-hebdo\\Semaine2\\Exo-Pandas\\GlobalLandTemperaturesByMajorCity.csv\"\n",
    "duplicate_df = pd.read_csv(url)\n",
    "\n",
    "print(f\"Affichage de la taille dataframe AVANT suppression : {duplicate_df.shape}\")"
   ]
  }
 ],
 "metadata": {
  "kernelspec": {
   "display_name": ".venv",
   "language": "python",
   "name": "python3"
  },
  "language_info": {
   "codemirror_mode": {
    "name": "ipython",
    "version": 3
   },
   "file_extension": ".py",
   "mimetype": "text/x-python",
   "name": "python",
   "nbconvert_exporter": "python",
   "pygments_lexer": "ipython3",
   "version": "3.12.4"
  }
 },
 "nbformat": 4,
 "nbformat_minor": 2
}
